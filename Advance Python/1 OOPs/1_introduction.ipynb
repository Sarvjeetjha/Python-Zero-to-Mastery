{
 "cells": [
  {
   "cell_type": "code",
   "execution_count": 1,
   "metadata": {},
   "outputs": [],
   "source": [
    "item1='phone'\n",
    "item1_price=100\n",
    "item1_quantity=5\n",
    "item1_price_total=item1_price*item1_quantity\n"
   ]
  },
  {
   "cell_type": "code",
   "execution_count": 2,
   "metadata": {},
   "outputs": [
    {
     "name": "stdout",
     "output_type": "stream",
     "text": [
      "<class 'str'>\n",
      "<class 'int'>\n",
      "<class 'int'>\n",
      "<class 'int'>\n"
     ]
    }
   ],
   "source": [
    "print(type (item1))#str\n",
    "print(type (item1_price))#int\n",
    "print(type (item1_quantity))#int\n",
    "print(type (item1_price_total))#int"
   ]
  },
  {
   "cell_type": "markdown",
   "metadata": {},
   "source": [
    "Creating class"
   ]
  },
  {
   "cell_type": "code",
   "execution_count": 25,
   "metadata": {},
   "outputs": [
    {
     "ename": "AssertionError",
     "evalue": "price  -100 is not greater or equal to 0!",
     "output_type": "error",
     "traceback": [
      "\u001b[1;31m---------------------------------------------------------------------------\u001b[0m",
      "\u001b[1;31mAssertionError\u001b[0m                            Traceback (most recent call last)",
      "Cell \u001b[1;32mIn[25], line 16\u001b[0m\n\u001b[0;32m     13\u001b[0m         \u001b[38;5;28;01mreturn\u001b[39;00m \u001b[38;5;28mself\u001b[39m\u001b[38;5;241m.\u001b[39mprice\u001b[38;5;241m*\u001b[39m\u001b[38;5;28mself\u001b[39m\u001b[38;5;241m.\u001b[39mquantity\n\u001b[0;32m     15\u001b[0m \u001b[38;5;66;03m#creating first object      \u001b[39;00m\n\u001b[1;32m---> 16\u001b[0m iteam1\u001b[38;5;241m=\u001b[39m\u001b[43mIteam\u001b[49m\u001b[43m(\u001b[49m\u001b[38;5;124;43m\"\u001b[39;49m\u001b[38;5;124;43mphone\u001b[39;49m\u001b[38;5;124;43m\"\u001b[39;49m\u001b[43m,\u001b[49m\u001b[38;5;241;43m-\u001b[39;49m\u001b[38;5;241;43m100\u001b[39;49m\u001b[43m,\u001b[49m\u001b[38;5;241;43m5\u001b[39;49m\u001b[43m)\u001b[49m\n\u001b[0;32m     17\u001b[0m \u001b[38;5;28mprint\u001b[39m(\u001b[38;5;124m'\u001b[39m\u001b[38;5;124mname -->>\u001b[39m\u001b[38;5;124m'\u001b[39m,iteam1\u001b[38;5;241m.\u001b[39mname)\n\u001b[0;32m     18\u001b[0m \u001b[38;5;28mprint\u001b[39m(\u001b[38;5;124m'\u001b[39m\u001b[38;5;124mquantity -->>\u001b[39m\u001b[38;5;124m'\u001b[39m,iteam1\u001b[38;5;241m.\u001b[39mquantity)\n",
      "Cell \u001b[1;32mIn[25], line 5\u001b[0m, in \u001b[0;36mIteam.__init__\u001b[1;34m(self, name, price, quantity)\u001b[0m\n\u001b[0;32m      2\u001b[0m \u001b[38;5;28;01mdef\u001b[39;00m \u001b[38;5;21m__init__\u001b[39m(\u001b[38;5;28mself\u001b[39m,name : \u001b[38;5;28mstr\u001b[39m,price : \u001b[38;5;28mint\u001b[39m,quantity\u001b[38;5;241m=\u001b[39m\u001b[38;5;241m0\u001b[39m) \u001b[38;5;241m-\u001b[39m\u001b[38;5;241m>\u001b[39m \u001b[38;5;28;01mNone\u001b[39;00m:\n\u001b[0;32m      3\u001b[0m     \u001b[38;5;66;03m# run validation to the received argument\u001b[39;00m\n\u001b[0;32m      4\u001b[0m     \u001b[38;5;66;03m# it raise AssertionError but we can change the messages if  meassage is not passed AssertionError will be displayed\u001b[39;00m\n\u001b[1;32m----> 5\u001b[0m     \u001b[38;5;28;01massert\u001b[39;00m price\u001b[38;5;241m>\u001b[39m\u001b[38;5;241m=\u001b[39m\u001b[38;5;241m0\u001b[39m ,\u001b[38;5;124mf\u001b[39m\u001b[38;5;124m\"\u001b[39m\u001b[38;5;124mprice  \u001b[39m\u001b[38;5;132;01m{\u001b[39;00mprice\u001b[38;5;132;01m}\u001b[39;00m\u001b[38;5;124m is not greater or equal to 0!\u001b[39m\u001b[38;5;124m\"\u001b[39m \u001b[38;5;66;03m# assert will through an error in case it fails if value is negative as per condition \u001b[39;00m\n\u001b[0;32m      6\u001b[0m     \u001b[38;5;28;01massert\u001b[39;00m  quantity\u001b[38;5;241m>\u001b[39m\u001b[38;5;241m=\u001b[39m\u001b[38;5;241m0\u001b[39m,\u001b[38;5;124mf\u001b[39m\u001b[38;5;124m\"\u001b[39m\u001b[38;5;124mquantity  \u001b[39m\u001b[38;5;132;01m{\u001b[39;00mquantity\u001b[38;5;132;01m}\u001b[39;00m\u001b[38;5;124mis not greater or equal to 0!\u001b[39m\u001b[38;5;124m\"\u001b[39m\n\u001b[0;32m      7\u001b[0m     \u001b[38;5;66;03m#Assign to self Object\u001b[39;00m\n",
      "\u001b[1;31mAssertionError\u001b[0m: price  -100 is not greater or equal to 0!"
     ]
    }
   ],
   "source": [
    "class Iteam:\n",
    "    # Class Attributes :- attributes that belongs to the calss itself but can be accessed at the instnace level\n",
    "    def __init__(self,name : str,price : int,quantity=0) -> None:\n",
    "        # run validation to the received argument\n",
    "        # it raise AssertionError but we can change the messages if  meassage is not passed AssertionError will be displayed\n",
    "        assert price>=0 ,f\"price  {price} is not greater or equal to 0!\" # assert will through an error in case it fails if value is negative as per condition \n",
    "        assert  quantity>=0,f\"quantity  {quantity}is not greater or equal to 0!\"\n",
    "        #Assign to self Object\n",
    "\n",
    "        #Instance attribute\n",
    "        self.name=name\n",
    "        self.quantity=quantity\n",
    "        self.price=price\n",
    "        print(f\"Instance created for {name}\")\n",
    "    def calculateTotalPrice(self):\n",
    "        return self.price*self.quantity\n",
    "    \n",
    "#creating first object      \n",
    "iteam1=Iteam(\"phone\",-100,5)\n",
    "print('name -->>',iteam1.name)\n",
    "print('quantity -->>',iteam1.quantity)\n",
    "print('price -->>',iteam1.price)\n",
    "print('total proce-->>',iteam1.calculateTotalPrice()\n",
    ")# calling method\n",
    "\n",
    "print('\\n\\n\\n')\n",
    "#creating second object\n",
    "\n",
    "iteam2=Iteam('laptop',100000,0)\n",
    "print('name -->>',iteam2.name)\n",
    "print('quantity -->>',iteam2.quantity)\n",
    "print('price -->>',iteam2.price)\n",
    "print('total proce-->>',iteam2.calculateTotalPrice()\n",
    ")# calling method\n",
    "\n",
    "iteam2.has_numPad=False\n",
    "print(iteam2.has_numPad)\n",
    "# print(iteam1.has_numPad)# error\n",
    "\n"
   ]
  },
  {
   "cell_type": "markdown",
   "metadata": {},
   "source": [
    "Creating some methods and use it"
   ]
  },
  {
   "cell_type": "code",
   "execution_count": 8,
   "metadata": {},
   "outputs": [
    {
     "name": "stdout",
     "output_type": "stream",
     "text": [
      "XYZ\n"
     ]
    }
   ],
   "source": [
    "random_str=\"xyz\"\n",
    "print(random_str.upper())"
   ]
  },
  {
   "cell_type": "markdown",
   "metadata": {},
   "source": [
    "creating method calculate total price inside class Iteam"
   ]
  }
 ],
 "metadata": {
  "kernelspec": {
   "display_name": "Python 3",
   "language": "python",
   "name": "python3"
  },
  "language_info": {
   "codemirror_mode": {
    "name": "ipython",
    "version": 3
   },
   "file_extension": ".py",
   "mimetype": "text/x-python",
   "name": "python",
   "nbconvert_exporter": "python",
   "pygments_lexer": "ipython3",
   "version": "3.10.6"
  }
 },
 "nbformat": 4,
 "nbformat_minor": 2
}

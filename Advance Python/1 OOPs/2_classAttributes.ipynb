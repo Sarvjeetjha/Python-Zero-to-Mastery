{
 "cells": [
  {
   "cell_type": "markdown",
   "metadata": {},
   "source": [
    "class attributes\n"
   ]
  },
  {
   "cell_type": "code",
   "execution_count": 17,
   "metadata": {},
   "outputs": [
    {
     "name": "stdout",
     "output_type": "stream",
     "text": [
      "Instance created for phone\n",
      "Instance created for laptop\n",
      "{'__module__': '__main__', 'pay_rate': 0.8, '__init__': <function Iteam.__init__ at 0x000001B70880E440>, 'calculateTotalPrice': <function Iteam.calculateTotalPrice at 0x000001B70880F1C0>, 'applyDiscount': <function Iteam.applyDiscount at 0x000001B70880E170>, '__dict__': <attribute '__dict__' of 'Iteam' objects>, '__weakref__': <attribute '__weakref__' of 'Iteam' objects>, '__doc__': None}\n",
      "{'name': 'phone', 'quantity': 5, 'price': 100}\n",
      "0.8\n",
      "0.8\n",
      "0.8\n",
      "80.0\n",
      "70000.0\n"
     ]
    }
   ],
   "source": [
    "\n",
    "# Creating class\n",
    "class Iteam:\n",
    "    # Class Attributes :- attributes that belongs to the calss itself but can be accessed at the instnace level\n",
    "    pay_rate = 0.8  # the pay rate after 20% discount\n",
    "\n",
    "    def __init__(self, name: str, price: int, quantity=0) -> None:\n",
    "\n",
    "        assert price >= 0, f\"price  {price} is not greater or equal to 0!\"\n",
    "        assert quantity >= 0, f\"quantity  {quantity}is not greater or equal to 0!\"\n",
    "\n",
    "        # Instance attribute\n",
    "        self.name = name\n",
    "        self.quantity = quantity\n",
    "        self.price = price\n",
    "        print(f\"Instance created for {name}\")\n",
    "\n",
    "    def calculateTotalPrice(self):\n",
    "        return self.price*self.quantity\n",
    "    def applyDiscount(self):\n",
    "        # self.price=self.price*Iteam.pay_rate # this will  work only with class atrribute if instance attributes assigned it still work with class attributes\n",
    "        self.price=self.price*self.pay_rate # it will work in all cases\n",
    "        return self.price\n",
    "\n",
    "\n",
    "# creating first object\n",
    "iteam1 = Iteam(\"phone\", 100, 5)\n",
    "# creating second object\n",
    "iteam2 = Iteam('laptop', 100000, 0)\n",
    "# to get the attributes\n",
    "print(Iteam.__dict__)  # will print all the class level attrinutes\n",
    "print(iteam1.__dict__)  # will print all the instance level attrinutes\n",
    "\n",
    "print(Iteam.pay_rate)\n",
    "print(iteam1.pay_rate)\n",
    "print(iteam2.pay_rate)\n",
    "\n",
    "print(iteam1.applyDiscount())\n",
    "# print(iteam2.applyDiscount())\n",
    "\n",
    "iteam2.pay_rate=0.7\n",
    "print(iteam2.applyDiscount()) # it still taking pay rate as 0.8 due to use of Iteam.payRate in method declared"
   ]
  }
 ],
 "metadata": {
  "kernelspec": {
   "display_name": "Python 3",
   "language": "python",
   "name": "python3"
  },
  "language_info": {
   "codemirror_mode": {
    "name": "ipython",
    "version": 3
   },
   "file_extension": ".py",
   "mimetype": "text/x-python",
   "name": "python",
   "nbconvert_exporter": "python",
   "pygments_lexer": "ipython3",
   "version": "3.10.6"
  }
 },
 "nbformat": 4,
 "nbformat_minor": 2
}

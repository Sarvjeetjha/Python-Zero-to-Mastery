{
 "cells": [
  {
   "cell_type": "code",
   "execution_count": 15,
   "metadata": {},
   "outputs": [
    {
     "name": "stdout",
     "output_type": "stream",
     "text": [
      "Instance created for Phone\n",
      "Instance created for Laptop\n",
      "Instance created for Cable\n",
      "Instance created for Mouse\n",
      "Instance created for Keyboard\n"
     ]
    }
   ],
   "source": [
    "# Creating class\n",
    "class Item:\n",
    "    # Class Attributes :- attributes that belongs to the calss itself but can be accessed at the instnace level\n",
    "    pay_rate = 0.8  # the pay rate after 20% discount\n",
    "    all=[]\n",
    "\n",
    "\n",
    "    def __init__(self, name: str, price: int, quantity=0) -> None:\n",
    "\n",
    "        assert price >= 0, f\"price  {price} is not greater or equal to 0!\"\n",
    "        assert quantity >= 0, f\"quantity  {quantity}is not greater or equal to 0!\"\n",
    "\n",
    "        # Instance attribute\n",
    "        #assign to self\n",
    "        self.name = name\n",
    "        self.quantity = quantity\n",
    "        self.price = price\n",
    "        print(f\"Instance created for {name}\")\n",
    "\n",
    "\n",
    "        # Action to be executed\n",
    "        Item.all.append(self)\n",
    "\n",
    "    def calculateTotalPrice(self):\n",
    "        return self.price*self.quantity\n",
    "    def applyDiscount(self):\n",
    "        # self.price=self.price*Iteam.pay_rate # this will  work only with class atrribute if instance attributes assigned it still work with class attributes\n",
    "        self.price=self.price*self.pay_rate # it will work in all cases\n",
    "        return self.price\n",
    "    def __repr__(self):\n",
    "        return f\"Item('{self.name}',{self.price},{self.quantity})\"\n",
    "\n",
    "\n",
    "item1 = Item(\"Phone\", 100, 1)\n",
    "item2 = Item(\"Laptop\", 1000, 3)\n",
    "item3 = Item(\"Cable\", 10, 5)\n",
    "item4 = Item(\"Mouse\", 50, 5)\n",
    "item5 = Item(\"Keyboard\", 75, 5)\n"
   ]
  },
  {
   "cell_type": "code",
   "execution_count": 16,
   "metadata": {},
   "outputs": [
    {
     "name": "stdout",
     "output_type": "stream",
     "text": [
      "[Item('Phone',100,1), Item('Laptop',1000,3), Item('Cable',10,5), Item('Mouse',50,5), Item('Keyboard',75,5)]\n"
     ]
    }
   ],
   "source": [
    "print(Item.all)"
   ]
  },
  {
   "cell_type": "code",
   "execution_count": 20,
   "metadata": {},
   "outputs": [
    {
     "name": "stdout",
     "output_type": "stream",
     "text": [
      "name of all instance \n",
      "Phone\n",
      "Laptop\n",
      "Cable\n",
      "Mouse\n",
      "Keyboard\n"
     ]
    }
   ],
   "source": [
    "print(f\"name of all instance \")\n",
    "for instance in Item.all:\n",
    "    print(instance.name)"
   ]
  }
 ],
 "metadata": {
  "kernelspec": {
   "display_name": "Python 3",
   "language": "python",
   "name": "python3"
  },
  "language_info": {
   "codemirror_mode": {
    "name": "ipython",
    "version": 3
   },
   "file_extension": ".py",
   "mimetype": "text/x-python",
   "name": "python",
   "nbconvert_exporter": "python",
   "pygments_lexer": "ipython3",
   "version": "3.10.6"
  }
 },
 "nbformat": 4,
 "nbformat_minor": 2
}

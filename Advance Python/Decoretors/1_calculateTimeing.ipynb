{
 "cells": [
  {
   "cell_type": "markdown",
   "metadata": {},
   "source": [
    "to calculate the time of function taking to execute using decoretor"
   ]
  },
  {
   "cell_type": "code",
   "execution_count": 7,
   "metadata": {},
   "outputs": [
    {
     "name": "stdout",
     "output_type": "stream",
     "text": [
      "exaple ran in 2.0007340908050537 time\n"
     ]
    }
   ],
   "source": [
    "import time\n",
    "def timer(func):\n",
    "    def wrapper(*args,**kwargs):\n",
    "        startTime=time.time()\n",
    "        result=func(*args,**kwargs)\n",
    "        endTime=time.time()\n",
    "        print(f\"{func.__name__} ran in {endTime-startTime} time\")\n",
    "        return result\n",
    "    return wrapper \n",
    "@timer\n",
    "def exaple(n):\n",
    "    time.sleep(n)\n",
    "exaple(2)"
   ]
  },
  {
   "cell_type": "markdown",
   "metadata": {},
   "source": [
    "create a decoretor to print the function  name and the values of o=its argumentevery time the function is called"
   ]
  },
  {
   "cell_type": "code",
   "execution_count": 18,
   "metadata": {},
   "outputs": [
    {
     "name": "stdout",
     "output_type": "stream",
     "text": [
      "<class 'tuple'>\n",
      "greet called : with args sarvjeet, hello, kwargs \n",
      "hello sarvjeet\n"
     ]
    }
   ],
   "source": [
    "def debug(func):\n",
    "    def wrapper(*args,**kwargs):\n",
    "        print(type(args))\n",
    "        args_value=', '.join(str(arg) for arg in args)\n",
    "        kwargs_value=', '.join(f\"{k}={v}\" for k,v in kwargs.items())\n",
    "        print(f\"{func.__name__} called : with args {args_value}, kwargs {kwargs_value}\")\n",
    "        return func(*args,**kwargs)\n",
    "    return wrapper\n",
    "@debug\n",
    "def greet(name,greeting=\"Hello \"):\n",
    "    print(f\"{greeting } {name }\")\n",
    "greet(\"sarvjeet\",'hello')"
   ]
  },
  {
   "cell_type": "markdown",
   "metadata": {},
   "source": [
    "create the decoretor that caches the returned value and check the chached value when it is called with same argument  then itv should return the same result rather than executing it again"
   ]
  },
  {
   "cell_type": "code",
   "execution_count": 28,
   "metadata": {},
   "outputs": [
    {
     "name": "stdout",
     "output_type": "stream",
     "text": [
      "{}\n",
      "Hi\n",
      "5\n",
      "4\n",
      "5\n",
      "7\n"
     ]
    }
   ],
   "source": [
    "import time\n",
    "def cache(func):\n",
    "    cache_value={}\n",
    "    print(cache_value)\n",
    "    print('Hi') # for testing only\n",
    "    def wrapper(*args,**kwargs):\n",
    "        if args in cache_value:\n",
    "            return cache_value[args]\n",
    "\n",
    "        result= func(*args,**kwargs)\n",
    "        cache_value[args]=result\n",
    "        return result\n",
    "    return wrapper\n",
    "@cache\n",
    "def long_running_function(a,b):\n",
    "    time.sleep(4)\n",
    "    return a+b\n",
    "print(long_running_function(2,3))\n",
    "print(long_running_function(2,2))\n",
    "print(long_running_function(2,3))\n",
    "print(long_running_function(2,5))\n"
   ]
  }
 ],
 "metadata": {
  "kernelspec": {
   "display_name": "Python 3",
   "language": "python",
   "name": "python3"
  },
  "language_info": {
   "codemirror_mode": {
    "name": "ipython",
    "version": 3
   },
   "file_extension": ".py",
   "mimetype": "text/x-python",
   "name": "python",
   "nbconvert_exporter": "python",
   "pygments_lexer": "ipython3",
   "version": "3.12.4"
  }
 },
 "nbformat": 4,
 "nbformat_minor": 2
}

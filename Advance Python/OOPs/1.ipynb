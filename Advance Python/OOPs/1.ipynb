{
 "cells": [
  {
   "cell_type": "code",
   "execution_count": 1,
   "metadata": {},
   "outputs": [],
   "source": [
    "item1='phone'\n",
    "item1_price=100\n",
    "item1_quantity=5\n",
    "item1_price_total=item1_price*item1_quantity\n"
   ]
  },
  {
   "cell_type": "code",
   "execution_count": 2,
   "metadata": {},
   "outputs": [
    {
     "name": "stdout",
     "output_type": "stream",
     "text": [
      "<class 'str'>\n",
      "<class 'int'>\n",
      "<class 'int'>\n",
      "<class 'int'>\n"
     ]
    }
   ],
   "source": [
    "print(type (item1))#str\n",
    "print(type (item1_price))#int\n",
    "print(type (item1_quantity))#int\n",
    "print(type (item1_price_total))#int"
   ]
  },
  {
   "cell_type": "markdown",
   "metadata": {},
   "source": [
    "Creating class"
   ]
  },
  {
   "cell_type": "code",
   "execution_count": 23,
   "metadata": {},
   "outputs": [
    {
     "name": "stdout",
     "output_type": "stream",
     "text": [
      "500\n",
      "200000\n"
     ]
    }
   ],
   "source": [
    "class Iteam:\n",
    "    def calculateTotalPrice(self,x,y):\n",
    "        return x*y\n",
    "    \n",
    "#creating first object\n",
    "iteam1=Iteam()\n",
    "iteam1.name=\"phone\"\n",
    "iteam1.price=100\n",
    "iteam1.quantity=5\n",
    "print(iteam1.calculateTotalPrice(iteam1.price,iteam1.quantity)\n",
    ")# calling method\n",
    "\n",
    "\n",
    "#creating second object\n",
    "iteam2=Iteam()\n",
    "iteam2.name=\"Laptop\"\n",
    "iteam2.price=100000\n",
    "iteam2.quantity=2\n",
    "print(iteam2.calculateTotalPrice(iteam2.price,iteam2.quantity)\n",
    ")# calling method\n"
   ]
  },
  {
   "cell_type": "markdown",
   "metadata": {},
   "source": [
    "Creating some methods and use it"
   ]
  },
  {
   "cell_type": "code",
   "execution_count": 8,
   "metadata": {},
   "outputs": [
    {
     "name": "stdout",
     "output_type": "stream",
     "text": [
      "XYZ\n"
     ]
    }
   ],
   "source": [
    "random_str=\"xyz\"\n",
    "print(random_str.upper())"
   ]
  },
  {
   "cell_type": "markdown",
   "metadata": {},
   "source": [
    "creating method calculate total price inside class Iteam"
   ]
  }
 ],
 "metadata": {
  "kernelspec": {
   "display_name": "Python 3",
   "language": "python",
   "name": "python3"
  },
  "language_info": {
   "codemirror_mode": {
    "name": "ipython",
    "version": 3
   },
   "file_extension": ".py",
   "mimetype": "text/x-python",
   "name": "python",
   "nbconvert_exporter": "python",
   "pygments_lexer": "ipython3",
   "version": "3.10.6"
  }
 },
 "nbformat": 4,
 "nbformat_minor": 2
}

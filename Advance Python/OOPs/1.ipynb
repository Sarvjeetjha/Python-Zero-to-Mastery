{
 "cells": [
  {
   "cell_type": "code",
   "execution_count": 1,
   "metadata": {},
   "outputs": [],
   "source": [
    "item1='phone'\n",
    "item1_price=100\n",
    "item1_quantity=5\n",
    "item1_price_total=item1_price*item1_quantity\n"
   ]
  },
  {
   "cell_type": "code",
   "execution_count": 2,
   "metadata": {},
   "outputs": [
    {
     "name": "stdout",
     "output_type": "stream",
     "text": [
      "<class 'str'>\n",
      "<class 'int'>\n",
      "<class 'int'>\n",
      "<class 'int'>\n"
     ]
    }
   ],
   "source": [
    "print(type (item1))#str\n",
    "print(type (item1_price))#int\n",
    "print(type (item1_quantity))#int\n",
    "print(type (item1_price_total))#int"
   ]
  },
  {
   "cell_type": "markdown",
   "metadata": {},
   "source": [
    "Creating class"
   ]
  },
  {
   "cell_type": "code",
   "execution_count": 2,
   "metadata": {},
   "outputs": [
    {
     "name": "stdout",
     "output_type": "stream",
     "text": [
      "500\n",
      "200000\n"
     ]
    }
   ],
   "source": [
    "class Iteam:\n",
    "    def __init__(self,name,quantity,price) -> None:\n",
    "        self.name=name\n",
    "        self.quantity=quantity\n",
    "        self.price=price\n",
    "    def calculateTotalPrice(self):\n",
    "        return self.price*self.quantity\n",
    "    \n",
    "#creating first object      \n",
    "iteam1=Iteam(\"phone\",5,100)\n",
    "\n",
    "print(iteam1.calculateTotalPrice()\n",
    ")# calling method\n",
    "\n",
    "\n",
    "#creating second object\n",
    "iteam2=Iteam('laptop',2,100000)\n",
    "\n",
    "print(iteam2.calculateTotalPrice()\n",
    ")# calling method\n"
   ]
  },
  {
   "cell_type": "markdown",
   "metadata": {},
   "source": [
    "Creating some methods and use it"
   ]
  },
  {
   "cell_type": "code",
   "execution_count": 8,
   "metadata": {},
   "outputs": [
    {
     "name": "stdout",
     "output_type": "stream",
     "text": [
      "XYZ\n"
     ]
    }
   ],
   "source": [
    "random_str=\"xyz\"\n",
    "print(random_str.upper())"
   ]
  },
  {
   "cell_type": "markdown",
   "metadata": {},
   "source": [
    "creating method calculate total price inside class Iteam"
   ]
  }
 ],
 "metadata": {
  "kernelspec": {
   "display_name": "Python 3",
   "language": "python",
   "name": "python3"
  },
  "language_info": {
   "codemirror_mode": {
    "name": "ipython",
    "version": 3
   },
   "file_extension": ".py",
   "mimetype": "text/x-python",
   "name": "python",
   "nbconvert_exporter": "python",
   "pygments_lexer": "ipython3",
   "version": "3.10.6"
  }
 },
 "nbformat": 4,
 "nbformat_minor": 2
}

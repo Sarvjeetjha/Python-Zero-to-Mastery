{
 "cells": [
  {
   "cell_type": "markdown",
   "metadata": {},
   "source": [
    "How to maintain your data as csv files"
   ]
  },
  {
   "cell_type": "code",
   "execution_count": 11,
   "metadata": {},
   "outputs": [
    {
     "name": "stdout",
     "output_type": "stream",
     "text": [
      "Instance created for Phone\n",
      "Instance created for Laptop\n",
      "Instance created for Cable\n",
      "Instance created for Mouse\n",
      "Instance created for Keyboard\n",
      "[<__main__.Item object at 0x000002194502A260>, <__main__.Item object at 0x0000021945028220>, <__main__.Item object at 0x000002194502A350>, <__main__.Item object at 0x0000021945009D20>, <__main__.Item object at 0x0000021944E0D990>]\n"
     ]
    }
   ],
   "source": [
    "import csv\n",
    "class Item:\n",
    "\n",
    "    pay_rate = 0.8\n",
    "    all = []\n",
    "\n",
    "    def __init__(self, name: str, price: int, quantity=0) -> None:\n",
    "\n",
    "        assert price >= 0, f\"price  {price} is not greater or equal to 0!\"\n",
    "        assert quantity >= 0, f\"quantity  {quantity}is not greater or equal to 0!\"\n",
    "\n",
    "        self.name = name\n",
    "        self.quantity = quantity\n",
    "        self.price = price\n",
    "        print(f\"Instance created for {name}\")\n",
    "\n",
    "\n",
    "        Item.all.append(self)\n",
    "\n",
    "    def calculateTotalPrice(self):\n",
    "        return self.price*self.quantity\n",
    "\n",
    "    def applyDiscount(self):\n",
    "        self.price = self.price*self.pay_rate  \n",
    "        return self.price\n",
    "    @classmethod #used to make method static\n",
    "    def instantiate_from_csv(cls):\n",
    "        with open ('items.csv','r') as f:\n",
    "            reader=csv.DictReader(f)\n",
    "            items=list(reader)\n",
    "        for item in items:\n",
    "            # print(item)it will display the value \n",
    "            # cretae instance from the value from csv file\n",
    "            Item(name=item['name'],price=int(item['price']),quantity=int(item['quantity']))\n",
    "\n",
    "    def __repr__(self):\n",
    "        return f\"Item('{self.name}',{self.price},{self.quantity})\"\n",
    "Item.instantiate_from_csv()\n",
    "print(Item.all)"
   ]
  }
 ],
 "metadata": {
  "kernelspec": {
   "display_name": "Python 3",
   "language": "python",
   "name": "python3"
  },
  "language_info": {
   "codemirror_mode": {
    "name": "ipython",
    "version": 3
   },
   "file_extension": ".py",
   "mimetype": "text/x-python",
   "name": "python",
   "nbconvert_exporter": "python",
   "pygments_lexer": "ipython3",
   "version": "3.10.6"
  }
 },
 "nbformat": 4,
 "nbformat_minor": 2
}

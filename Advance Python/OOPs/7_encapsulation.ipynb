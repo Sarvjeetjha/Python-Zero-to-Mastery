{
 "cells": [
  {
   "cell_type": "markdown",
   "metadata": {},
   "source": [
    "Encapsulation"
   ]
  },
  {
   "cell_type": "markdown",
   "metadata": {},
   "source": [
    "private:-Private members are similar to protected members, the difference is that the class members declared private should neither be accessed outside the class nor by any base class. In Python, there is no existence of Private instance variables that cannot be accessed except inside a class.\n",
    "\n",
    "However, to define a private member prefix the member name with double underscore “__”.\n",
    "\n",
    "Note: Python’s private and protected members can be accessed outside the class through python name mangling. "
   ]
  },
  {
   "cell_type": "code",
   "execution_count": 5,
   "metadata": {},
   "outputs": [],
   "source": [
    "#Access  MOdifier:->Encapsulation\n",
    "#private:- can be access within the class\n",
    "class Person:\n",
    "    def __init__(self,name:str,age=0) -> None:\n",
    "        self.__name=name\n",
    "        self.__age=age\n",
    "    def displayInfo(self):\n",
    "        print(f\"my name is {self.__name} and my age is {self.__age}\")\n"
   ]
  },
  {
   "cell_type": "code",
   "execution_count": 10,
   "metadata": {},
   "outputs": [
    {
     "name": "stdout",
     "output_type": "stream",
     "text": [
      "my name is sarvjeet and my age is 21\n",
      "['_Person__age', '_Person__name', '__class__', '__delattr__', '__dict__', '__dir__', '__doc__', '__eq__', '__format__', '__ge__', '__getattribute__', '__gt__', '__hash__', '__init__', '__init_subclass__', '__le__', '__lt__', '__module__', '__ne__', '__new__', '__reduce__', '__reduce_ex__', '__repr__', '__setattr__', '__sizeof__', '__str__', '__subclasshook__', '__weakref__', 'displayInfo']\n",
      "21\n"
     ]
    }
   ],
   "source": [
    "# creating object of class person\n",
    "person=Person(\"sarvjeet\",21)\n",
    "person.displayInfo()\n",
    "print(dir(person))\n",
    "print(person._Person__age)# not allowed  Wrong way\n"
   ]
  },
  {
   "cell_type": "markdown",
   "metadata": {},
   "source": [
    "Protected:-Protected members (in C++ and JAVA) are those members of the class that cannot be accessed outside the class but can be accessed from within the class and its subclasses. To accomplish this in Python, just follow the convention by prefixing the name of the member by a single underscore “_”.\n",
    "\n",
    "Although the protected variable can be accessed out of the class as well as in the derived class (modified too in derived class), it is customary(convention not a rule) to not access the protected out the class body."
   ]
  },
  {
   "cell_type": "code",
   "execution_count": 30,
   "metadata": {},
   "outputs": [],
   "source": [
    "#Access  MOdifier:->Encapsulation\n",
    "#protected :- can be accessed to derived class only \n",
    "class Person:\n",
    "    def __init__(self,name:str,age=0) -> None:\n",
    "        self._name=name\n",
    "        self._age=age\n",
    "class Student(Person):\n",
    "    def __init__(self,name,age):\n",
    "        super().__init__(name,age)\n",
    "        \n",
    "\n",
    "    def displayInfo(self):\n",
    "        print(f\"my name is {self._name} and my age is {self._age}\")\n",
    "\n"
   ]
  },
  {
   "cell_type": "code",
   "execution_count": 31,
   "metadata": {},
   "outputs": [
    {
     "name": "stdout",
     "output_type": "stream",
     "text": [
      "my name is sarvjeet and my age is 21\n"
     ]
    }
   ],
   "source": [
    "#accessing protected attributes\n",
    "obj1=Student(\"sarvjeet\",21)\n",
    "\n",
    "obj1.displayInfo()\n",
    "\n"
   ]
  }
 ],
 "metadata": {
  "kernelspec": {
   "display_name": "Python 3",
   "language": "python",
   "name": "python3"
  },
  "language_info": {
   "codemirror_mode": {
    "name": "ipython",
    "version": 3
   },
   "file_extension": ".py",
   "mimetype": "text/x-python",
   "name": "python",
   "nbconvert_exporter": "python",
   "pygments_lexer": "ipython3",
   "version": "3.10.6"
  }
 },
 "nbformat": 4,
 "nbformat_minor": 2
}

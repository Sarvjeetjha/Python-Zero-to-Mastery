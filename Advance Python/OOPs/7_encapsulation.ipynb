{
 "cells": [
  {
   "cell_type": "markdown",
   "metadata": {},
   "source": [
    "Encapsulation"
   ]
  },
  {
   "cell_type": "code",
   "execution_count": 5,
   "metadata": {},
   "outputs": [],
   "source": [
    "#Access  MOdifier:->Encapsulation\n",
    "#private:- can be access within the class\n",
    "class Person:\n",
    "    def __init__(self,name:str,age=0) -> None:\n",
    "        self.__name=name\n",
    "        self.__age=age\n",
    "    def displayInfo(self):\n",
    "        print(f\"my name is {self.__name} and my age is {self.__age}\")\n"
   ]
  },
  {
   "cell_type": "code",
   "execution_count": 7,
   "metadata": {},
   "outputs": [
    {
     "name": "stdout",
     "output_type": "stream",
     "text": [
      "my name is sarvjeet and my age is 21\n"
     ]
    }
   ],
   "source": [
    "# creating object of class person\n",
    "person=Person(\"sarvjeet\",21)\n",
    "person.displayInfo()\n"
   ]
  },
  {
   "cell_type": "code",
   "execution_count": null,
   "metadata": {},
   "outputs": [],
   "source": []
  }
 ],
 "metadata": {
  "kernelspec": {
   "display_name": "Python 3",
   "language": "python",
   "name": "python3"
  },
  "language_info": {
   "codemirror_mode": {
    "name": "ipython",
    "version": 3
   },
   "file_extension": ".py",
   "mimetype": "text/x-python",
   "name": "python",
   "nbconvert_exporter": "python",
   "pygments_lexer": "ipython3",
   "version": "3.10.6"
  }
 },
 "nbformat": 4,
 "nbformat_minor": 2
}

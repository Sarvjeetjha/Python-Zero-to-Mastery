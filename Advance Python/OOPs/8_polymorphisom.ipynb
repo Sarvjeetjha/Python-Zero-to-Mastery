{
 "cells": [
  {
   "cell_type": "markdown",
   "metadata": {},
   "source": [
    "Polymorphism\n"
   ]
  },
  {
   "cell_type": "markdown",
   "metadata": {},
   "source": [
    "Duck typing method:-Duck Typing is a type system used in dynamic languages. For example, Python, Perl, Ruby, PHP, Javascript, etc. where the type or the class of an object is less important than the method it defines. Using Duck Typing, we do not check types at all. Instead, we check for the presence of a given method or attribute.\n",
    "\n"
   ]
  },
  {
   "cell_type": "code",
   "execution_count": 6,
   "metadata": {},
   "outputs": [
    {
     "name": "stdout",
     "output_type": "stream",
     "text": [
      "i am a duck i can swim\n",
      "Quack Quack\n",
      "process finished\n",
      "\n",
      "\n",
      "i am a dog i can't swim\n",
      "barking \n",
      "process finished\n",
      "\n",
      "\n"
     ]
    }
   ],
   "source": [
    "class Duck:\n",
    "    def swim(self):\n",
    "        print(\"i am a duck i can swim\")\n",
    "\n",
    "    def speak(self):\n",
    "        print(\"Quack Quack\")\n",
    "\n",
    "\n",
    "class Dog:\n",
    "    def swim(self):\n",
    "        print(\"i am a dog i can't swim\")\n",
    "\n",
    "    def speak(self):\n",
    "        print(\"barking \")\n",
    "\n",
    "\n",
    "class Person:\n",
    "\n",
    "    def speak(self):\n",
    "        print(\"Speaking\")\n",
    "\n",
    "\n",
    "def display(obj):\n",
    "    obj.swim()\n",
    "    obj.speak()\n",
    "    print(\"process finished\\n\\n\")\n",
    "\n",
    "\n",
    "duck=Duck()\n",
    "dog=Dog()\n",
    "display(duck)\n",
    "display(dog)\n",
    "\n"
   ]
  },
  {
   "cell_type": "code",
   "execution_count": 7,
   "metadata": {},
   "outputs": [
    {
     "name": "stdout",
     "output_type": "stream",
     "text": [
      "i am a duck i can swim\n",
      "Quack Quack\n",
      "process finished\n",
      "\n",
      "\n",
      "i am a dog i can't swim\n",
      "barking \n",
      "process finished\n",
      "\n",
      "\n"
     ]
    }
   ],
   "source": [
    "#even we can write display function inside a class\n",
    "class Duck:\n",
    "    def swim(self):\n",
    "        print(\"i am a duck i can swim\")\n",
    "\n",
    "    def speak(self):\n",
    "        print(\"Quack Quack\")\n",
    "\n",
    "\n",
    "class Dog:\n",
    "    def swim(self):\n",
    "        print(\"i am a dog i can't swim\")\n",
    "\n",
    "    def speak(self):\n",
    "        print(\"barking \")\n",
    "\n",
    "\n",
    "class Person:\n",
    "\n",
    "    def speak(self):\n",
    "        print(\"Speaking\")\n",
    "\n",
    "class Demo:\n",
    "\n",
    "    def display(self,obj):\n",
    "        obj.swim()\n",
    "        obj.speak()\n",
    "        print(\"process finished\\n\\n\")\n",
    "\n",
    "\n",
    "duck=Duck()\n",
    "dog=Dog()\n",
    "demo=Demo()\n",
    "demo.display(duck)\n",
    "demo.display(dog)\n",
    "\n"
   ]
  },
  {
   "cell_type": "markdown",
   "metadata": {},
   "source": [
    "Operator overloading"
   ]
  },
  {
   "cell_type": "code",
   "execution_count": 10,
   "metadata": {},
   "outputs": [
    {
     "name": "stdout",
     "output_type": "stream",
     "text": [
      "3\n",
      "12\n"
     ]
    }
   ],
   "source": [
    "print(1+2) # will add when applies to integer\n",
    "print('1'+'2')# will concatinate when applied to string"
   ]
  },
  {
   "cell_type": "code",
   "execution_count": 12,
   "metadata": {},
   "outputs": [
    {
     "name": "stdout",
     "output_type": "stream",
     "text": [
      "3 + 5i\n"
     ]
    }
   ],
   "source": [
    "class Complex:\n",
    "    def __init__(self,r,i):\n",
    "        self.real=r\n",
    "        self.imag=i\n",
    "    def __add__(self,other):\n",
    "        return f\"{self.real+other.real} + {self.imag+other.imag}i\"\n",
    "c1=Complex(2,3)\n",
    "c2=Complex(1,2)\n",
    "print(c1+c2)"
   ]
  }
 ],
 "metadata": {
  "kernelspec": {
   "display_name": "Python 3",
   "language": "python",
   "name": "python3"
  },
  "language_info": {
   "codemirror_mode": {
    "name": "ipython",
    "version": 3
   },
   "file_extension": ".py",
   "mimetype": "text/x-python",
   "name": "python",
   "nbconvert_exporter": "python",
   "pygments_lexer": "ipython3",
   "version": "3.10.6"
  }
 },
 "nbformat": 4,
 "nbformat_minor": 2
}

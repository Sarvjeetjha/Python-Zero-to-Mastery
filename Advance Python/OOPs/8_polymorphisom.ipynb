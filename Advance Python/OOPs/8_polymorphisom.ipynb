{
 "cells": [
  {
   "cell_type": "markdown",
   "metadata": {},
   "source": [
    "Polymorphism\n"
   ]
  },
  {
   "cell_type": "markdown",
   "metadata": {},
   "source": [
    "Duck typing method:-Duck Typing is a type system used in dynamic languages. For example, Python, Perl, Ruby, PHP, Javascript, etc. where the type or the class of an object is less important than the method it defines. Using Duck Typing, we do not check types at all. Instead, we check for the presence of a given method or attribute.\n",
    "\n"
   ]
  },
  {
   "cell_type": "code",
   "execution_count": 6,
   "metadata": {},
   "outputs": [
    {
     "name": "stdout",
     "output_type": "stream",
     "text": [
      "i am a duck i can swim\n",
      "Quack Quack\n",
      "process finished\n",
      "\n",
      "\n",
      "i am a dog i can't swim\n",
      "barking \n",
      "process finished\n",
      "\n",
      "\n"
     ]
    }
   ],
   "source": [
    "class Duck:\n",
    "    def swim(self):\n",
    "        print(\"i am a duck i can swim\")\n",
    "\n",
    "    def speak(self):\n",
    "        print(\"Quack Quack\")\n",
    "\n",
    "\n",
    "class Dog:\n",
    "    def swim(self):\n",
    "        print(\"i am a dog i can't swim\")\n",
    "\n",
    "    def speak(self):\n",
    "        print(\"barking \")\n",
    "\n",
    "\n",
    "class Person:\n",
    "\n",
    "    def speak(self):\n",
    "        print(\"Speaking\")\n",
    "\n",
    "\n",
    "def display(obj):\n",
    "    obj.swim()\n",
    "    obj.speak()\n",
    "    print(\"process finished\\n\\n\")\n",
    "\n",
    "\n",
    "duck=Duck()\n",
    "dog=Dog()\n",
    "display(duck)\n",
    "display(dog)\n",
    "\n"
   ]
  },
  {
   "cell_type": "code",
   "execution_count": 7,
   "metadata": {},
   "outputs": [
    {
     "name": "stdout",
     "output_type": "stream",
     "text": [
      "i am a duck i can swim\n",
      "Quack Quack\n",
      "process finished\n",
      "\n",
      "\n",
      "i am a dog i can't swim\n",
      "barking \n",
      "process finished\n",
      "\n",
      "\n"
     ]
    }
   ],
   "source": [
    "#even we can write display function inside a class\n",
    "class Duck:\n",
    "    def swim(self):\n",
    "        print(\"i am a duck i can swim\")\n",
    "\n",
    "    def speak(self):\n",
    "        print(\"Quack Quack\")\n",
    "\n",
    "\n",
    "class Dog:\n",
    "    def swim(self):\n",
    "        print(\"i am a dog i can't swim\")\n",
    "\n",
    "    def speak(self):\n",
    "        print(\"barking \")\n",
    "\n",
    "\n",
    "class Person:\n",
    "\n",
    "    def speak(self):\n",
    "        print(\"Speaking\")\n",
    "\n",
    "class Demo:\n",
    "\n",
    "    def display(self,obj):\n",
    "        obj.swim()\n",
    "        obj.speak()\n",
    "        print(\"process finished\\n\\n\")\n",
    "\n",
    "\n",
    "duck=Duck()\n",
    "dog=Dog()\n",
    "demo=Demo()\n",
    "demo.display(duck)\n",
    "demo.display(dog)\n",
    "\n"
   ]
  },
  {
   "cell_type": "markdown",
   "metadata": {},
   "source": [
    "Operator overloading"
   ]
  },
  {
   "cell_type": "code",
   "execution_count": 10,
   "metadata": {},
   "outputs": [
    {
     "name": "stdout",
     "output_type": "stream",
     "text": [
      "3\n",
      "12\n"
     ]
    }
   ],
   "source": [
    "print(1+2) # will add when applies to integer\n",
    "print('1'+'2')# will concatinate when applied to string"
   ]
  },
  {
   "cell_type": "code",
   "execution_count": 12,
   "metadata": {},
   "outputs": [
    {
     "name": "stdout",
     "output_type": "stream",
     "text": [
      "3 + 5i\n"
     ]
    }
   ],
   "source": [
    "class Complex:\n",
    "    def __init__(self,r,i):\n",
    "        self.real=r\n",
    "        self.imag=i\n",
    "    def __add__(self,other):\n",
    "        return f\"{self.real+other.real} + {self.imag+other.imag}i\"\n",
    "c1=Complex(2,3)\n",
    "c2=Complex(1,2)\n",
    "print(c1+c2)"
   ]
  },
  {
   "cell_type": "markdown",
   "metadata": {},
   "source": [
    "Some more problem"
   ]
  },
  {
   "cell_type": "code",
   "execution_count": 13,
   "metadata": {},
   "outputs": [
    {
     "name": "stdout",
     "output_type": "stream",
     "text": [
      "Ram will pay the bill\n"
     ]
    }
   ],
   "source": [
    "class Person:\n",
    "    def __init__(self,name,age):\n",
    "        self.name=name\n",
    "        self.age=age\n",
    "    def __gt__(self,other):\n",
    "        return self.age>other.age\n",
    "p1=Person(\"sarvjeet\",21)\n",
    "p2=Person(\"Ram\",32)\n",
    "if p1>p2:\n",
    "    print(f\"{p1.name } will pay the bill\")\n",
    "else:\n",
    "    print(f\"{p2.name } will pay the bill\")"
   ]
  },
  {
   "cell_type": "markdown",
   "metadata": {},
   "source": [
    "Method overloading\n",
    "\n",
    "\n",
    "Note:we cannot achive  method overloading directly in python"
   ]
  },
  {
   "cell_type": "code",
   "execution_count": 17,
   "metadata": {},
   "outputs": [
    {
     "ename": "TypeError",
     "evalue": "Demo.add() missing 1 required positional argument: 'c'",
     "output_type": "error",
     "traceback": [
      "\u001b[1;31m---------------------------------------------------------------------------\u001b[0m",
      "\u001b[1;31mTypeError\u001b[0m                                 Traceback (most recent call last)",
      "Cell \u001b[1;32mIn[17], line 7\u001b[0m\n\u001b[0;32m      5\u001b[0m         \u001b[38;5;28;01mreturn\u001b[39;00m a\u001b[38;5;241m+\u001b[39mb\n\u001b[0;32m      6\u001b[0m d\u001b[38;5;241m=\u001b[39mDemo()\n\u001b[1;32m----> 7\u001b[0m \u001b[38;5;28mprint\u001b[39m(\u001b[43md\u001b[49m\u001b[38;5;241;43m.\u001b[39;49m\u001b[43madd\u001b[49m\u001b[43m(\u001b[49m\u001b[38;5;241;43m2\u001b[39;49m\u001b[43m,\u001b[49m\u001b[38;5;241;43m3\u001b[39;49m\u001b[43m)\u001b[49m)\n\u001b[0;32m      8\u001b[0m \u001b[38;5;28mprint\u001b[39m(d\u001b[38;5;241m.\u001b[39madd(\u001b[38;5;241m2\u001b[39m,\u001b[38;5;241m3\u001b[39m,\u001b[38;5;241m6\u001b[39m))\n",
      "\u001b[1;31mTypeError\u001b[0m: Demo.add() missing 1 required positional argument: 'c'"
     ]
    }
   ],
   "source": [
    "class Demo:\n",
    "    def add(self,a:int,b:int):\n",
    "        return a+b\n",
    "    def add(self ,a:int,b:int,c:int):\n",
    "        return a+b\n",
    "d=Demo()\n",
    "print(d.add(2,3))\n",
    "print(d.add(2,3,6))"
   ]
  },
  {
   "cell_type": "code",
   "execution_count": 21,
   "metadata": {},
   "outputs": [
    {
     "name": "stdout",
     "output_type": "stream",
     "text": [
      "5\n",
      "11\n"
     ]
    }
   ],
   "source": [
    "class Demo:\n",
    "    def add(self,a,b,c=0):\n",
    "        return a+b+c\n",
    "    \n",
    "d=Demo()\n",
    "print(d.add(2,3))\n",
    "print(d.add(2,3,6))"
   ]
  },
  {
   "cell_type": "code",
   "execution_count": 22,
   "metadata": {},
   "outputs": [
    {
     "name": "stdout",
     "output_type": "stream",
     "text": [
      "5\n",
      "11\n"
     ]
    }
   ],
   "source": [
    "class Demo:\n",
    "    def add(self,*args):\n",
    "        s=0\n",
    "        for i in args:\n",
    "            s=s+i\n",
    "        return s\n",
    "d=Demo()\n",
    "print(d.add(2,3))\n",
    "print(d.add(2,3,6))"
   ]
  },
  {
   "cell_type": "code",
   "execution_count": 23,
   "metadata": {},
   "outputs": [
    {
     "name": "stdout",
     "output_type": "stream",
     "text": [
      "5\n",
      "11\n",
      "hello dear\n"
     ]
    }
   ],
   "source": [
    "class Demo:\n",
    "    def add(self,data_type,*args):\n",
    "        if data_type=='int':\n",
    "            s=0\n",
    "        else:\n",
    "            s=''\n",
    "        for i in args:\n",
    "            s=s+i\n",
    "        return s\n",
    "d=Demo()\n",
    "print(d.add('int',2,3))\n",
    "print(d.add('int',2,3,6))\n",
    "print(d.add('str','hello ','dear'))"
   ]
  },
  {
   "cell_type": "markdown",
   "metadata": {},
   "source": [
    "By Using Multiple Dispatch Decorator "
   ]
  },
  {
   "cell_type": "code",
   "execution_count": 25,
   "metadata": {},
   "outputs": [
    {
     "name": "stdout",
     "output_type": "stream",
     "text": [
      "6\n",
      "12\n",
      "17.204\n"
     ]
    }
   ],
   "source": []
  }
 ],
 "metadata": {
  "kernelspec": {
   "display_name": "Python 3",
   "language": "python",
   "name": "python3"
  },
  "language_info": {
   "codemirror_mode": {
    "name": "ipython",
    "version": 3
   },
   "file_extension": ".py",
   "mimetype": "text/x-python",
   "name": "python",
   "nbconvert_exporter": "python",
   "pygments_lexer": "ipython3",
   "version": "3.10.6"
  }
 },
 "nbformat": 4,
 "nbformat_minor": 2
}
